{
 "cells": [
  {
   "cell_type": "code",
   "execution_count": 66,
   "id": "08036ce0",
   "metadata": {},
   "outputs": [
    {
     "ename": "ModuleNotFoundError",
     "evalue": "No module named 'stadistics'",
     "output_type": "error",
     "traceback": [
      "\u001b[1;31m---------------------------------------------------------------------------\u001b[0m",
      "\u001b[1;31mModuleNotFoundError\u001b[0m                       Traceback (most recent call last)",
      "Cell \u001b[1;32mIn[66], line 5\u001b[0m\n\u001b[0;32m      3\u001b[0m data \u001b[38;5;241m=\u001b[39m pd\u001b[38;5;241m.\u001b[39mread_csv(link)\n\u001b[0;32m      4\u001b[0m \u001b[38;5;28;01mimport\u001b[39;00m  \u001b[38;5;21;01mnumpy\u001b[39;00m \u001b[38;5;28;01mas\u001b[39;00m \u001b[38;5;21;01mnp\u001b[39;00m\n\u001b[1;32m----> 5\u001b[0m \u001b[38;5;28;01mimport\u001b[39;00m \u001b[38;5;21;01mstadistics\u001b[39;00m\n",
      "\u001b[1;31mModuleNotFoundError\u001b[0m: No module named 'stadistics'"
     ]
    }
   ],
   "source": [
    "import pandas as pd\n",
    "link= 'https://raw.githubusercontent.com/data-bootcamp-v4/data/main/file1.csv'\n",
    "data = pd.read_csv(link)\n",
    "import  numpy as np\n"
   ]
  },
  {
   "cell_type": "markdown",
   "id": "816c49f9",
   "metadata": {},
   "source": [
    "<h1 style=\"color: #00BFFF;\">Challenge 1: Understanding the data<span class=\"tocSkip\"></span></h1>"
   ]
  },
  {
   "cell_type": "code",
   "execution_count": 2,
   "id": "2e2ffc8a",
   "metadata": {},
   "outputs": [
    {
     "data": {
      "text/plain": [
       "(4008, 11)"
      ]
     },
     "execution_count": 2,
     "metadata": {},
     "output_type": "execute_result"
    }
   ],
   "source": [
    "#Identifique las dimensiones del conjunto de datos determinando el número de filas y columnas que contiene.\n",
    "data.shape"
   ]
  },
  {
   "cell_type": "code",
   "execution_count": 4,
   "id": "ca932770",
   "metadata": {},
   "outputs": [
    {
     "name": "stdout",
     "output_type": "stream",
     "text": [
      "<class 'pandas.core.frame.DataFrame'>\n",
      "RangeIndex: 4008 entries, 0 to 4007\n",
      "Data columns (total 11 columns):\n",
      " #   Column                     Non-Null Count  Dtype  \n",
      "---  ------                     --------------  -----  \n",
      " 0   Customer                   1071 non-null   object \n",
      " 1   ST                         1071 non-null   object \n",
      " 2   GENDER                     954 non-null    object \n",
      " 3   Education                  1071 non-null   object \n",
      " 4   Customer Lifetime Value    1068 non-null   object \n",
      " 5   Income                     1071 non-null   float64\n",
      " 6   Monthly Premium Auto       1071 non-null   float64\n",
      " 7   Number of Open Complaints  1071 non-null   object \n",
      " 8   Policy Type                1071 non-null   object \n",
      " 9   Vehicle Class              1071 non-null   object \n",
      " 10  Total Claim Amount         1071 non-null   float64\n",
      "dtypes: float64(3), object(8)\n",
      "memory usage: 344.6+ KB\n"
     ]
    },
    {
     "data": {
      "text/plain": [
       "'Sugerencias de mejoras.\\nSe podría limpiar el archivo eliminando los NaN. Adaptar el  Customer Lifetime Value a una cifra Float '"
      ]
     },
     "execution_count": 4,
     "metadata": {},
     "output_type": "execute_result"
    }
   ],
   "source": [
    "#Determine los tipos de datos de cada columna y evalúe si son apropiados para la naturaleza de la variable. \n",
    "#También debe proporcionar sugerencias para corregir cualquier tipo de datos incorrecto.\n",
    "data.info()\n",
    "\n",
    "\n",
    "\"\"\"Sugerencias de mejoras.\n",
    "Se podría limpiar el archivo eliminando los NaN. Adaptar el  Customer Lifetime Value a una cifra Float \"\"\""
   ]
  },
  {
   "cell_type": "code",
   "execution_count": 8,
   "id": "3febfb75",
   "metadata": {},
   "outputs": [
    {
     "data": {
      "text/plain": [
       "Customer                     1071\n",
       "ST                              8\n",
       "GENDER                          5\n",
       "Education                       6\n",
       "Customer Lifetime Value      1027\n",
       "Income                        774\n",
       "Monthly Premium Auto          132\n",
       "Number of Open Complaints       6\n",
       "Policy Type                     3\n",
       "Vehicle Class                   6\n",
       "Total Claim Amount            761\n",
       "dtype: int64"
      ]
     },
     "execution_count": 8,
     "metadata": {},
     "output_type": "execute_result"
    }
   ],
   "source": [
    "# Identifique el número de valores únicos para cada columna y determine qué columnas parecen ser categóricas. \n",
    "#También debe describir los valores únicos de cada columna categórica y el rango de valores de las columnas numéricas, y brindar su opinión.\n",
    "data.nunique()\n",
    "\n",
    "\n",
    "#Los elementos que creo que pueden ser de tipo categóricas son: Policy Type, Vehicle Class,Education, GENDER, Vehicle Class.\n",
    "#En relación a las quejas, si que podría a pasar a ser categórica si conseguimos información sobre el tipo de queja o al relacionarlas con otros parámetros. \n"
   ]
  },
  {
   "cell_type": "code",
   "execution_count": 75,
   "id": "a0948395",
   "metadata": {},
   "outputs": [
    {
     "name": "stdout",
     "output_type": "stream",
     "text": [
      "             Income  Monthly Premium Auto  Total Claim Amount\n",
      "count   1071.000000           1071.000000         1071.000000\n",
      "mean   39295.701214            193.234360          404.986909\n",
      "std    30469.427060           1601.190369          293.027260\n",
      "min        0.000000             61.000000            0.382107\n",
      "25%    14072.000000             68.000000          202.157702\n",
      "50%    36234.000000             83.000000          354.729129\n",
      "75%    64631.000000            109.500000          532.800000\n",
      "max    99960.000000          35354.000000         2893.239678\n",
      "Mediana de Monthly Premium Auto 83.0\n",
      "mediana Total Claim Amount 36234.0\n",
      "mediana Total Claim Amount 354.729129\n",
      "Moda de Monthly Premium Auto 0    65.0\n",
      "Name: Monthly Premium Auto, dtype: float64\n",
      "moda Total Claim Amount 0    0.0\n",
      "Name: Income, dtype: float64\n",
      "moda Total Claim Amount 0    321.6\n",
      "Name: Total Claim Amount, dtype: float64\n"
     ]
    }
   ],
   "source": [
    "#Calcule estadísticas resumidas como la media, la mediana, la moda, la desviación estándar y los cuartiles para comprender la tendencia central y la distribución de los datos de las columnas numéricas. \n",
    "#También debe proporcionar sus conclusiones basadas en estas estadísticas resumidas.\n",
    "print(data.describe())\n",
    "\n",
    "moda_auto = data['Monthly Premium Auto'].mode()\n",
    "moda_income = data['Income'].mode()\n",
    "moda_tca = data['Total Claim Amount'].mode()\n",
    "median_auto = data['Monthly Premium Auto'].median()\n",
    "median_income = data['Income'].median()\n",
    "median_tca = data['Total Claim Amount'].median()\n",
    "print('Mediana de Monthly Premium Auto', median_auto)\n",
    "print('mediana Total Claim Amount', median_income)\n",
    "print('mediana Total Claim Amount',median_tca)\n",
    "print('Moda de Monthly Premium Auto', moda_auto)\n",
    "print('moda Total Claim Amount', moda_income)\n",
    "print('moda Total Claim Amount',moda_tca )\n",
    "#En la siguiente tabla encontramos en bruto toda la información correspondiente que se ha pedido.\n",
    "#Aunque la información otrorgada es en bruto y habria que trabajarlo para que la misma sea util para su trabajo. "
   ]
  },
  {
   "cell_type": "code",
   "execution_count": 23,
   "id": "9943a35e",
   "metadata": {},
   "outputs": [
    {
     "name": "stdout",
     "output_type": "stream",
     "text": [
      "      Policy Type  proportion\n",
      "0   Personal Auto        73.0\n",
      "1  Corporate Auto        22.0\n",
      "2    Special Auto         5.0\n",
      "   Vehicle Class  proportion\n",
      "0  Four-Door Car        54.0\n",
      "1   Two-Door Car        19.0\n",
      "2            SUV        19.0\n",
      "3     Sports Car         5.0\n",
      "4     Luxury SUV         2.0\n",
      "5     Luxury Car         1.0\n",
      "              Education  proportion\n",
      "0              Bachelor        30.0\n",
      "1               College        29.0\n",
      "2  High School or Below        28.0\n",
      "3                Master         9.0\n",
      "4                Doctor         3.0\n",
      "5             Bachelors         1.0\n",
      "   GENDER  proportion\n",
      "0       F        48.0\n",
      "1       M        43.0\n",
      "2    Male         4.0\n",
      "3  female         3.0\n",
      "4   Femal         2.0\n"
     ]
    }
   ],
   "source": [
    "#Calcule estadísticas resumidas para columnas categóricas y proporcione sus conclusiones basadas en estas estadísticas.\n",
    "#Policy Type\n",
    "suma_policy=(data['Policy Type'].value_counts(normalize=True) * 100).reset_index().round()\n",
    "\n",
    "print(suma_policy)\n",
    "#Vehicle Class\n",
    "suma_class=(data['Vehicle Class'].value_counts(normalize=True) * 100).reset_index().round()\n",
    "print(suma_class)\n",
    "#Education\n",
    "suma_education=(data['Education'].value_counts(normalize=True) * 100).reset_index().round()\n",
    "print(suma_education)\n",
    "#GENDER\n",
    "suma_gender=(data['GENDER'].value_counts(normalize=True) * 100).reset_index().round()\n",
    "print(suma_gender)\n",
    "\n",
    "\n",
    "#Conclusiones generales.En la primera estadística vemos que el mayor cliente de la compañia es el cosumidor privado que tiene coches convencionales.To\n",
    "#Todo esto se refuerza con los resultados de los porcentajes del tipo de coche, donde los de lujo son una minoría.\n",
    "#Otra información interesante sería comparar el tema de estudios con el género y además si podemos compararlo con el número de atestados sería perfecto para crear un perfil de la persona que pone una queja.\n",
    "\n",
    "\n",
    "\n"
   ]
  },
  {
   "cell_type": "markdown",
   "id": "ef6c77e4",
   "metadata": {},
   "source": [
    "<h1 style=\"color: #00BFFF;\">Challenge 2: analyzing the data<span class=\"tocSkip\"></span></h1>"
   ]
  },
  {
   "cell_type": "code",
   "execution_count": 43,
   "id": "95027d32",
   "metadata": {},
   "outputs": [
    {
     "data": {
      "text/plain": [
       "ST\n",
       "Cali          120\n",
       "Nevada         98\n",
       "Washington     81\n",
       "WA             30\n",
       "AZ             25\n",
       "Name: count, dtype: int64"
      ]
     },
     "execution_count": 43,
     "metadata": {},
     "output_type": "execute_result"
    }
   ],
   "source": [
    "#Ejercicio 1\n",
    "#El equipo de marketing quiere conocer las cinco ubicaciones de clientes menos comunes. \n",
    "#Cree un objeto de la serie Pandas que contenga las ubicaciones de los clientes y sus frecuencias, y luego recupere las 5 ubicaciones menos comunes en orden ascendente.\n",
    "data['ST'].value_counts().tail(5)"
   ]
  },
  {
   "cell_type": "code",
   "execution_count": 53,
   "id": "7c6d796d",
   "metadata": {},
   "outputs": [
    {
     "name": "stdout",
     "output_type": "stream",
     "text": [
      "1071\n",
      "      Policy Type  proportion\n",
      "0   Personal Auto        73.0\n",
      "1  Corporate Auto        22.0\n",
      "2    Special Auto         5.0\n"
     ]
    }
   ],
   "source": [
    "#Ejercicio 2\n",
    "#El equipo de ventas quiere saber el número total de pólizas vendidas para cada tipo de póliza. Cree un objeto pandas Series que contenga los tipos de póliza y su número total de pólizas vendidas, y luego recupere el tipo de póliza con la mayor cantidad de pólizas vendidas.\n",
    "\n",
    "polizas_vendidas=data['Policy Type'].count()\n",
    "suma_policy=(data['Policy Type'].value_counts(normalize=True) * 100).reset_index().round()\n",
    "print(polizas_vendidas)\n",
    "print(suma_policy)"
   ]
  },
  {
   "cell_type": "code",
   "execution_count": 100,
   "id": "71160ded",
   "metadata": {},
   "outputs": [
    {
     "name": "stdout",
     "output_type": "stream",
     "text": [
      "La media de ingresos con coche personal es: 35211.5\n",
      "La media de ingresos con coche corporativo es: 39155.5\n"
     ]
    }
   ],
   "source": [
    "#Ejercicio 3\n",
    "tabla_personal = data.loc[data['Policy Type'] == 'Personal Auto']\n",
    "suma_income_persona=tabla_personal['Income'].median()\n",
    "print('La media de ingresos con coche personal es:', suma_income_persona)\n",
    "tabla_corporativa = data.loc[data['Policy Type'] == 'Corporate Auto']\n",
    "media_corpo_income= tabla_corporativa['Income'].median()\n",
    "print('La media de ingresos con coche corporativo es:', media_corpo_income)"
   ]
  },
  {
   "cell_type": "code",
   "execution_count": null,
   "id": "1ec148b6",
   "metadata": {},
   "outputs": [],
   "source": []
  }
 ],
 "metadata": {
  "kernelspec": {
   "display_name": "Python 3 (ipykernel)",
   "language": "python",
   "name": "python3"
  },
  "language_info": {
   "codemirror_mode": {
    "name": "ipython",
    "version": 3
   },
   "file_extension": ".py",
   "mimetype": "text/x-python",
   "name": "python",
   "nbconvert_exporter": "python",
   "pygments_lexer": "ipython3",
   "version": "3.11.5"
  }
 },
 "nbformat": 4,
 "nbformat_minor": 5
}
